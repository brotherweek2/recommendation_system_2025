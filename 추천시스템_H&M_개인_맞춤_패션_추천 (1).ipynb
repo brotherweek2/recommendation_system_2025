{
  "cells": [
    {
      "cell_type": "markdown",
      "metadata": {
        "id": "aIZsmVszHCSV"
      },
      "source": [
        "#데이터 분석"
      ]
    },
    {
      "cell_type": "code",
      "execution_count": null,
      "metadata": {
        "id": "qcMwJLJECQQd"
      },
      "outputs": [],
      "source": [
        "from google.colab import drive\n",
        "drive.mount('/content/drive')"
      ]
    },
    {
      "cell_type": "code",
      "execution_count": null,
      "metadata": {
        "id": "rUcokzu6Z10n"
      },
      "outputs": [],
      "source": [
        "import matplotlib.pyplot as plt\n",
        "import seaborn as sns\n",
        "import plotly.express as px"
      ]
    },
    {
      "cell_type": "code",
      "execution_count": null,
      "metadata": {
        "id": "Xf7WbCJPCY3y"
      },
      "outputs": [],
      "source": [
        "import pandas as pd\n",
        "import numpy as np\n",
        "\n",
        "ar = pd.read_csv('/content/drive/MyDrive/competition/H&M 개인 맞춤 패션 추천/articles.csv/articles.csv')\n",
        "cu = pd.read_csv('/content/drive/MyDrive/competition/H&M 개인 맞춤 패션 추천/customers.csv/customers.csv')\n",
        "sub = pd.read_csv('/content/drive/MyDrive/competition/H&M 개인 맞춤 패션 추천/sample_submission.csv/sample_submission.csv')\n",
        "tr = pd.read_csv('/content/drive/MyDrive/competition/H&M 개인 맞춤 패션 추천/transactions_train.csv/transactions_train.csv')"
      ]
    },
    {
      "cell_type": "code",
      "execution_count": null,
      "metadata": {
        "id": "wVkuij7mQcsB"
      },
      "outputs": [],
      "source": [
        "ar.info()\n",
        "cu.info()\n",
        "tr.info()"
      ]
    },
    {
      "cell_type": "code",
      "execution_count": null,
      "metadata": {
        "id": "ELQXEBth-Aun"
      },
      "outputs": [],
      "source": [
        "# 날짜 처리\n",
        "tr['t_dat'] = pd.to_datetime(tr['t_dat'])"
      ]
    },
    {
      "cell_type": "markdown",
      "metadata": {
        "id": "iAqDkFN_Pdvo"
      },
      "source": [
        "##상위 유저 비율에 따른 누적 구매 기여도"
      ]
    },
    {
      "cell_type": "code",
      "execution_count": null,
      "metadata": {
        "id": "UgITZFz0c-Ir"
      },
      "outputs": [],
      "source": [
        "tr.groupby('customer_id').size().reset_index(name='purchase_count').sort_values(by='purchase_count', ascending=False).head()"
      ]
    },
    {
      "cell_type": "code",
      "execution_count": null,
      "metadata": {
        "id": "7G-0SjLGOXSt"
      },
      "outputs": [],
      "source": [
        "# 시각화를 위해 누적 비율을 포함한 DataFrame 생성\n",
        "user_purchase_counts = tr.groupby('customer_id').size().reset_index(name='purchase_count')\n",
        "user_purchase_counts = user_purchase_counts.sort_values(by='purchase_count', ascending=False)\n",
        "\n",
        "# 누적 구매 기여도 계산\n",
        "user_purchase_counts['cumulative_purchase_count'] = user_purchase_counts['purchase_count'].cumsum()\n",
        "total_purchases = user_purchase_counts['purchase_count'].sum()\n",
        "user_purchase_counts['cumulative_contribution'] = (user_purchase_counts['cumulative_purchase_count'] / total_purchases) * 100\n",
        "\n",
        "# 누적 사용자 비율 계산\n",
        "user_purchase_counts['user_cumulative_percentage'] = (np.arange(len(user_purchase_counts)) + 1) / len(user_purchase_counts) * 100\n",
        "\n",
        "# 시각화\n",
        "plt.figure(figsize=(12, 8))\n",
        "sns.lineplot(x='user_cumulative_percentage', y='cumulative_contribution', data=user_purchase_counts)\n",
        "\n",
        "# 그래프에 주요 포인트 추가 (예: 상위 1%, 5%, 10%, 20%, 50%)\n",
        "for percent in [1, 5, 10, 20, 50]:\n",
        "    if percent <= 100:\n",
        "        num_users_at_percent = int(len(user_purchase_counts) * (percent / 100))\n",
        "        # Ensure index is within bounds\n",
        "        if num_users_at_percent > 0 and num_users_at_percent <= len(user_purchase_counts):\n",
        "            # Adjust index for 0-based indexing\n",
        "            user_index = num_users_at_percent - 1 if num_users_at_percent > 0 else 0\n",
        "            contribution_at_percent = user_purchase_counts['cumulative_contribution'].iloc[user_index]\n",
        "            plt.plot(percent, contribution_at_percent, 'ro') # Mark the point\n",
        "            plt.text(percent, contribution_at_percent, f'{contribution_at_percent:.1f}%', fontsize=10, ha='left')\n",
        "\n",
        "plt.title('Cumulative Purchase Contribution by User Percentage', fontsize=16)\n",
        "plt.xlabel('Percentage of Users (sorted by purchase count, from top)', fontsize=13)\n",
        "plt.ylabel('Cumulative Purchase Contribution (%)', fontsize=13)\n",
        "plt.grid(True)\n",
        "plt.xlim(0, 100) # Set x-axis limit to 0-100%\n",
        "plt.ylim(0, 100) # Set y-axis limit to 0-100%\n",
        "plt.show()\n",
        "\n",
        "# 상위 몇 프로 유저의 누적 기여도 출력\n",
        "for percent in [1, 5, 10, 20, 50]:\n",
        "    if percent <= 100:\n",
        "        num_users_at_percent = int(len(user_purchase_counts) * (percent / 100))\n",
        "         # Ensure index is within bounds\n",
        "        if num_users_at_percent > 0 and num_users_at_percent <= len(user_purchase_counts):\n",
        "            # Adjust index for 0-based indexing\n",
        "            user_index = num_users_at_percent - 1 if num_users_at_percent > 0 else 0\n",
        "            contribution_at_percent = user_purchase_counts['cumulative_contribution'].iloc[user_index]\n",
        "            print(f\"상위 {percent}% 유저는 전체 구매의 {contribution_at_percent:.2f}%를 기여합니다.\")"
      ]
    },
    {
      "cell_type": "markdown",
      "metadata": {
        "id": "HOTgpdK5WHig"
      },
      "source": [
        "##연도-월별 판매 분석"
      ]
    },
    {
      "cell_type": "code",
      "execution_count": null,
      "metadata": {
        "id": "HKIJeUgvYVie"
      },
      "outputs": [],
      "source": [
        "print(\"가장 빠른 날짜:\", tr['t_dat'].min())\n",
        "print(\"가장 느린 날짜:\", tr['t_dat'].max())"
      ]
    },
    {
      "cell_type": "code",
      "execution_count": null,
      "metadata": {
        "id": "LswN9WXD0y1W"
      },
      "outputs": [],
      "source": [
        "#전체 판매 수익(2018.9~2020.9 총 2년간)\n",
        "tr['year_month'] = tr['t_dat'].dt.to_period('M').astype(str)\n",
        "price_by_month = tr.groupby(['year_month'])[['price']].sum().reset_index()\n",
        "price_by_month.sort_values(by='price', ascending=False).head()\n",
        "fig = px.line(data_frame=price_by_month, x=\"year_month\", y=\"price\")\n",
        "fig.show()"
      ]
    },
    {
      "cell_type": "code",
      "execution_count": null,
      "metadata": {
        "id": "qTBs-Pm8RcSU"
      },
      "outputs": [],
      "source": [
        "# 연도별 판매 수익\n",
        "tr['year'] = tr['t_dat'].dt.year\n",
        "price_by_year = tr.groupby(['year'])[['price']].sum().reset_index()\n",
        "print(\"\\n연도별 판매 수익:\")\n",
        "print(price_by_year)\n",
        "\n",
        "fig_year = px.line(data_frame=price_by_year, x=\"year\", y=\"price\", title=\"연도별 판매 수익\")\n",
        "fig_year.show()"
      ]
    },
    {
      "cell_type": "code",
      "execution_count": null,
      "metadata": {
        "id": "gC26gmmYRjiJ"
      },
      "outputs": [],
      "source": [
        "# 월별 평균 판매 수익\n",
        "tr['month'] = tr['t_dat'].dt.month\n",
        "price_by_month_avg = tr.groupby(['month'])[['price']].mean().reset_index()\n",
        "print(\"\\n월별 평균 판매 수익:\")\n",
        "print(price_by_month_avg)\n",
        "\n",
        "fig_month_avg = px.line(data_frame=price_by_month_avg, x=\"month\", y=\"price\", title=\"월별 평균 판매 수익\")\n",
        "fig_month_avg.update_xaxes(dtick=1)\n",
        "fig_month_avg.show()"
      ]
    },
    {
      "cell_type": "code",
      "execution_count": null,
      "metadata": {
        "id": "VBl264i-RuKe"
      },
      "outputs": [],
      "source": [
        "# 월별 구매 빈도 계산\n",
        "monthly_purchases = tr.groupby('month').size().reset_index(name='purchase_count')\n",
        "print(\"\\n월별 구매 빈도:\")\n",
        "print(monthly_purchases)\n",
        "\n",
        "# 월별 구매 빈도\n",
        "fig_monthly_px = px.line(data_frame=monthly_purchases, x=\"month\", y=\"purchase_count\", title=\"월별 구매 빈도\")\n",
        "fig_monthly_px.update_xaxes(dtick=1)\n",
        "fig_monthly_px.show()"
      ]
    },
    {
      "cell_type": "markdown",
      "metadata": {
        "id": "hZlh4DYAbF_I"
      },
      "source": [
        "##히트상품,지난주 인기상품"
      ]
    },
    {
      "cell_type": "code",
      "execution_count": null,
      "metadata": {
        "id": "JeZif7LyzO4_"
      },
      "outputs": [],
      "source": [
        "from os.path import exists\n",
        "import matplotlib.pyplot as plt\n",
        "import cv2"
      ]
    },
    {
      "cell_type": "markdown",
      "metadata": {
        "id": "kjEik1SqqWEP"
      },
      "source": [
        "히트 상품"
      ]
    },
    {
      "cell_type": "code",
      "execution_count": null,
      "metadata": {
        "id": "iRekbd9Dn5To"
      },
      "outputs": [],
      "source": [
        "# 전체 판매량 계산\n",
        "hit = tr[\"article_id\"].value_counts().reset_index()\n",
        "hit.columns = [\"article_id\", \"sales\"]\n",
        "\n",
        "# 상위 1000개 제외 (기본템 제외)\n",
        "hit = hit.iloc[1000:].reset_index(drop=True)\n",
        "\n",
        "# 상위 10%를 히트 상품으로 간주\n",
        "threshold = hit[\"sales\"].quantile(0.90)\n",
        "hit[\"hit\"] = (hit[\"sales\"] >= threshold).astype(int)\n",
        "\n",
        "# 최종 히트 상품 추출\n",
        "hit = hit[hit[\"hit\"] == 1].reset_index(drop=True)\n",
        "\n",
        "# 확인\n",
        "print(f\"히트상품 개수: {len(hit)}개\")\n",
        "print(\"히트상품 예시:\",hit.head())"
      ]
    },
    {
      "cell_type": "code",
      "execution_count": null,
      "metadata": {
        "id": "cCR7nSOHosBA"
      },
      "outputs": [],
      "source": [
        "#시각화\n",
        "BASE = '/content/drive/MyDrive/competition/H&M 개인 맞춤 패션 추천/images'\n",
        "hit_article_ids = hit['article_id'].tolist()\n",
        "\n",
        "plt.figure(figsize=(20, 4))  # 전체 가로 사이즈 설정\n",
        "\n",
        "shown = 0;idx = 0\n",
        "top_n = 5  # 원하는 이미지 개수\n",
        "\n",
        "while shown < top_n and idx < len(hit_article_ids):\n",
        "    article_id = hit_article_ids[idx]\n",
        "    img_path = BASE + '/0' + str(article_id)[:2] + '/0' + str(article_id) + '.jpg'\n",
        "\n",
        "    if exists(img_path):\n",
        "        img = cv2.imread(img_path)[:, :, ::-1]\n",
        "        plt.subplot(1, top_n, shown + 1)\n",
        "        plt.imshow(img)\n",
        "        plt.title(f'{article_id}', fontsize=10)\n",
        "        plt.axis('off')\n",
        "        shown += 1\n",
        "    else:\n",
        "        print(f\"Image not found for article ID: {article_id}\")\n",
        "\n",
        "    idx += 1\n",
        "\n",
        "plt.tight_layout()\n",
        "plt.show()"
      ]
    },
    {
      "cell_type": "markdown",
      "metadata": {
        "id": "6do2fsqRxKTN"
      },
      "source": [
        "연령대별 히트상품"
      ]
    },
    {
      "cell_type": "code",
      "execution_count": null,
      "metadata": {
        "id": "dnolWKDlxMdK"
      },
      "outputs": [],
      "source": [
        "# 연령대 분포 확인\n",
        "plt.figure(figsize=(10, 6))\n",
        "sns.histplot(data=cu, x='age', bins=30, kde=True)\n",
        "plt.title('Age Distribution', fontsize=16)\n",
        "plt.xlabel('Age', fontsize=13)\n",
        "plt.ylabel('Frequency', fontsize=13)\n",
        "plt.show()"
      ]
    },
    {
      "cell_type": "code",
      "execution_count": null,
      "metadata": {
        "id": "PQr3uO7NxUyR"
      },
      "outputs": [],
      "source": [
        "# 연령 정보 결합\n",
        "customer_transactions = tr.merge(cu[['customer_id', 'age']], on='customer_id', how='left')\n",
        "\n",
        "# 연령대 분류 (10세 단위: 0-9, 10-19, ..., 90-99)\n",
        "bins = list(range(0, 101, 10))\n",
        "labels = [f'{i}-{i+9}' for i in range(0, 100, 10)]\n",
        "customer_transactions['age_group'] = pd.cut(customer_transactions['age'], bins=bins, labels=labels, right=False)\n",
        "\n",
        "# 전체 판매량 기준 상위 1000개 상품 ID 추출 (기본템)\n",
        "overall_top1000 = tr[\"article_id\"].value_counts().head(1000).index\n",
        "\n",
        "# 연령대별 x 상품별 판매량 계산\n",
        "age_group_sales = customer_transactions.groupby(['age_group', 'article_id']).size().reset_index(name='sales_count')\n",
        "\n",
        "# 상위 1000개 상품 제거(기본템 제외)\n",
        "age_group_sales = age_group_sales[~age_group_sales[\"article_id\"].isin(overall_top1000)].reset_index(drop=True)\n",
        "\n",
        "# 연령대별 상위 3개 추출\n",
        "top_n = 3\n",
        "hit_items_by_age_group = age_group_sales.groupby(\"age_group\").apply(lambda x: x.nlargest(top_n, \"sales_count\")).reset_index(drop=True)\n",
        "\n",
        "# 시각화\n",
        "BASE = '/content/drive/MyDrive/competition/H&M 개인 맞춤 패션 추천/images'\n",
        "\n",
        "for age_group in hit_items_by_age_group['age_group'].unique():\n",
        "    print(f\"\\n연령대: {age_group} - 상위 {top_n}개 히트 상품:\")\n",
        "\n",
        "    # 이 연령대의 히트 상품 중 판매량 0 초과만 필터링\n",
        "    age_group_df = hit_items_by_age_group[\n",
        "        (hit_items_by_age_group['age_group'] == age_group) &\n",
        "        (hit_items_by_age_group['sales_count'] > 0)\n",
        "    ]\n",
        "\n",
        "    print(age_group_df[['article_id', 'sales_count']])\n",
        "    age_group_article_ids = age_group_df['article_id'].tolist()\n",
        "\n",
        "    # 시각화\n",
        "    plt.figure(figsize=(20, 4))\n",
        "    shown = 0\n",
        "    for article_id in age_group_article_ids:\n",
        "        img_path = BASE + '/0' + str(article_id)[:2] + '/0' + str(article_id) + '.jpg'\n",
        "        if exists(img_path):\n",
        "            img = cv2.imread(img_path)[:, :, ::-1]\n",
        "            if shown < top_n:\n",
        "                plt.subplot(1, top_n, shown + 1)\n",
        "                plt.imshow(img)\n",
        "                plt.title(f'{article_id}', fontsize=10)\n",
        "                plt.axis('off')\n",
        "                shown += 1\n",
        "        else:\n",
        "            print(f\"Image not found for article ID: {article_id}\")\n",
        "            if shown < top_n:\n",
        "                plt.subplot(1, top_n, shown + 1)\n",
        "                plt.text(0.5, 0.5, f'No Image\\n{article_id}', horizontalalignment='center',\n",
        "                         verticalalignment='center', transform=plt.gca().transAxes, fontsize=10)\n",
        "                plt.axis('off')\n",
        "                shown += 1\n",
        "\n",
        "    plt.tight_layout()\n",
        "    plt.show()"
      ]
    },
    {
      "cell_type": "markdown",
      "metadata": {
        "id": "bULdB5dVrwJa"
      },
      "source": [
        "최근 1주일 인기상품"
      ]
    },
    {
      "cell_type": "code",
      "execution_count": null,
      "metadata": {
        "id": "zntP0fP_lL-h"
      },
      "outputs": [],
      "source": [
        "#최근 1주일\n",
        "popular_1week = tr[tr['t_dat'] >= pd.to_datetime('2020-09-16')]\n",
        "\n",
        "# 인기 있는 상위 article_id 추출\n",
        "popular_items = popular_1week['article_id'].value_counts().index.astype(str)\n",
        "\n",
        "# 확인\n",
        "print(\"최근 1주일 인기상품 예시:\", popular_items[:5])"
      ]
    },
    {
      "cell_type": "code",
      "execution_count": null,
      "metadata": {
        "id": "Dtni965amgpV"
      },
      "outputs": [],
      "source": [
        "#시각화\n",
        "BASE = '/content/drive/MyDrive/competition/H&M 개인 맞춤 패션 추천/images'\n",
        "\n",
        "plt.figure(figsize=(20, 4))  # 전체 가로 사이즈 설정\n",
        "\n",
        "shown = 0\n",
        "for i, article_id in enumerate(popular_items[:5]):  # 상위 5개만 시각화\n",
        "    img_path = BASE + '/0' + str(article_id)[:2] + '/0' + str(article_id) + '.jpg'\n",
        "    if exists(img_path):\n",
        "        img = cv2.imread(img_path)[:, :, ::-1]\n",
        "        plt.subplot(1, 5, shown + 1)\n",
        "        plt.imshow(img)\n",
        "        plt.title(f'{article_id}', fontsize=10)\n",
        "        plt.axis('off')\n",
        "        shown += 1\n",
        "\n",
        "plt.tight_layout()\n",
        "plt.show()"
      ]
    },
    {
      "cell_type": "markdown",
      "metadata": {
        "id": "TkCt8bKzEFXb"
      },
      "source": [
        "![image.png](data:image/png;base64,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)"
      ]
    },
    {
      "cell_type": "markdown",
      "metadata": {
        "id": "g5dbX2URGw10"
      },
      "source": [
        "![image.png](data:image/png;base64,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)"
      ]
    },
    {
      "cell_type": "markdown",
      "metadata": {
        "id": "APEzqBNf_jpD"
      },
      "source": [
        "#콘텐츠 기반 추천시스템"
      ]
    },
    {
      "cell_type": "code",
      "execution_count": null,
      "metadata": {
        "id": "La0g3DO3PkLX"
      },
      "outputs": [],
      "source": [
        "import pandas as pd\n",
        "import numpy as np\n",
        "from sklearn.feature_extraction.text import TfidfVectorizer\n",
        "from sklearn.preprocessing import OneHotEncoder\n",
        "from sklearn.decomposition import PCA\n",
        "from sklearn.metrics.pairwise import cosine_similarity\n",
        "from sklearn.metrics.pairwise import linear_kernel"
      ]
    },
    {
      "cell_type": "code",
      "execution_count": null,
      "metadata": {
        "id": "9EDETle-QzL1"
      },
      "outputs": [],
      "source": [
        "from google.colab import drive\n",
        "drive.mount('/content/drive')"
      ]
    },
    {
      "cell_type": "code",
      "execution_count": null,
      "metadata": {
        "id": "TbVBB2oZQjhS"
      },
      "outputs": [],
      "source": [
        "ar = pd.read_csv('/content/drive/MyDrive/competition/H&M 개인 맞춤 패션 추천/articles.csv/articles.csv')\n",
        "cu = pd.read_csv('/content/drive/MyDrive/competition/H&M 개인 맞춤 패션 추천/customers.csv/customers.csv')\n",
        "sub = pd.read_csv('/content/drive/MyDrive/competition/H&M 개인 맞춤 패션 추천/sample_submission.csv/sample_submission.csv')\n",
        "tr = pd.read_csv('/content/drive/MyDrive/competition/H&M 개인 맞춤 패션 추천/transactions_train.csv/transactions_train.csv')"
      ]
    },
    {
      "cell_type": "markdown",
      "metadata": {
        "id": "5YYgf6BTS3nu"
      },
      "source": [
        "상품 콘텐츠 벡터화 (TF-IDF + 범주형 → PCA)"
      ]
    },
    {
      "cell_type": "code",
      "execution_count": null,
      "metadata": {
        "id": "r7Cl43-NPqZK"
      },
      "outputs": [],
      "source": [
        "# 필요한 컬럼 정제\n",
        "ar_subset = ar[[\"article_id\", \"detail_desc\", \"product_group_name\",\"colour_group_name\", \"graphical_appearance_name\"]].dropna()\n",
        "\n",
        "# TF-IDF (텍스트) + One-Hot (카테고리)\n",
        "tfidf = TfidfVectorizer(stop_words='english', max_features=300)\n",
        "tfidf_matrix = tfidf.fit_transform(ar_subset[\"detail_desc\"])\n",
        "\n",
        "encoder = OneHotEncoder(sparse_output=False)\n",
        "cat_features = encoder.fit_transform(ar_subset[[\"product_group_name\", \"colour_group_name\", \"graphical_appearance_name\"]])\n",
        "\n",
        "# 통합 및 차원 축소\n",
        "features = np.hstack((tfidf_matrix.toarray(), cat_features))\n",
        "pca = PCA(n_components=50, random_state=42)\n",
        "reduced_features = pca.fit_transform(features)"
      ]
    },
    {
      "cell_type": "markdown",
      "metadata": {
        "id": "eTXlahZpTJt2"
      },
      "source": [
        "고객 구매 이력 기반 함수 생성"
      ]
    },
    {
      "cell_type": "code",
      "execution_count": null,
      "metadata": {
        "id": "clMv5CnlPvZR"
      },
      "outputs": [],
      "source": [
        "ar_ids = ar_subset[\"article_id\"].tolist()\n",
        "ar_id_to_idx = {aid: idx for idx, aid in enumerate(ar_ids)}\n",
        "\n",
        "# 고객 → 최근 구매한 article_id 목록\n",
        "def recommend_by_profile(customer_id, top_n=12):\n",
        "    history = tr[tr[\"customer_id\"] == customer_id][\"article_id\"].tolist()\n",
        "    idxs = [ar_id_to_idx[aid] for aid in history if aid in ar_id_to_idx]\n",
        "\n",
        "    if not idxs:\n",
        "        return []\n",
        "\n",
        "    # 평균 벡터 → 고객 취향 벡터\n",
        "    profile_vector = np.mean(reduced_features[idxs], axis=0).reshape(1, -1)\n",
        "\n",
        "    # 유사도 계산\n",
        "    sim_scores = cosine_similarity(profile_vector, reduced_features)[0]\n",
        "    ranked_idxs = np.argsort(sim_scores)[::-1]\n",
        "\n",
        "    # 이미 구매한 상품 제외하고 상위 n개 추출\n",
        "    recommended = [ar_ids[i] for i in ranked_idxs if ar_ids[i] not in history][:top_n]\n",
        "    return recommended"
      ]
    },
    {
      "cell_type": "markdown",
      "metadata": {
        "id": "Iz13V1gNNHad"
      },
      "source": [
        "예시 실행"
      ]
    },
    {
      "cell_type": "code",
      "execution_count": null,
      "metadata": {
        "id": "BBh7CaVvUTD6"
      },
      "outputs": [],
      "source": [
        "example_customer = tr[\"customer_id\"].iloc[100]\n",
        "print(f\"고객 ID: {example_customer}\\n추천 결과:\",recommend_by_profile(example_customer))"
      ]
    },
    {
      "cell_type": "code",
      "execution_count": null,
      "metadata": {
        "id": "rTQwAUR5XhDZ"
      },
      "outputs": [],
      "source": [
        "import os\n",
        "import cv2\n",
        "import matplotlib.pyplot as plt\n",
        "\n",
        "# 경로 설정\n",
        "BASE = '/content/drive/MyDrive/competition/H&M 개인 맞춤 패션 추천/images'\n",
        "\n",
        "# 추천 결과 (예시)\n",
        "article_ids = recommend_by_profile(example_customer)\n",
        "\n",
        "# 시각화\n",
        "plt.figure(figsize=(20, 4))  # 가로 크기 설정\n",
        "\n",
        "shown = 0\n",
        "idx = 0\n",
        "top_n = 5  # 출력할 이미지 개수\n",
        "\n",
        "while shown < top_n and idx < len(article_ids):\n",
        "    article_id = article_ids[idx]\n",
        "    img_path = os.path.join(BASE, '0' + str(article_id)[:2], '0' + str(article_id) + '.jpg')\n",
        "\n",
        "    if os.path.exists(img_path):\n",
        "        img = cv2.imread(img_path)[:, :, ::-1]  # BGR -> RGB 변환\n",
        "        plt.subplot(1, top_n, shown + 1)\n",
        "        plt.imshow(img)\n",
        "        plt.title(f'{article_id}', fontsize=10)\n",
        "        plt.axis('off')\n",
        "        shown += 1\n",
        "    else:\n",
        "        print(f\"Image not found for article ID: {article_id}\")\n",
        "\n",
        "    idx += 1\n",
        "\n",
        "plt.tight_layout()\n",
        "plt.show()"
      ]
    },
    {
      "cell_type": "markdown",
      "metadata": {
        "id": "10o1O-Q_14oq"
      },
      "source": [
        "#베이스라인 - 잠재요인 협업필터링(ALS)"
      ]
    },
    {
      "cell_type": "code",
      "source": [
        "!pip install scipy==1.9.3\n",
        "!pip install implicit==0.6.1"
      ],
      "metadata": {
        "id": "oG7QOsPwWMlH"
      },
      "execution_count": null,
      "outputs": []
    },
    {
      "cell_type": "code",
      "execution_count": null,
      "metadata": {
        "id": "ksSvO5871LHG"
      },
      "outputs": [],
      "source": [
        "!pip install implicit"
      ]
    },
    {
      "cell_type": "code",
      "execution_count": null,
      "metadata": {
        "id": "U_DbzcFxR1l0"
      },
      "outputs": [],
      "source": [
        "import os; os.environ['OPENBLAS_NUM_THREADS']='1'\n",
        "import numpy as np\n",
        "import pandas as pd\n",
        "import implicit\n",
        "import scipy\n",
        "from scipy.sparse import coo_matrix,csr_matrix\n",
        "from implicit.evaluation import mean_average_precision_at_k\n",
        "from implicit.als import AlternatingLeastSquares"
      ]
    },
    {
      "cell_type": "code",
      "execution_count": null,
      "metadata": {
        "id": "js7BC3Veqnne"
      },
      "outputs": [],
      "source": [
        "print(\"implicit version:\", implicit.__version__)\n",
        "print(\"scipy version:\", scipy.__version__)"
      ]
    },
    {
      "cell_type": "code",
      "execution_count": null,
      "metadata": {
        "id": "vGf-GxhNJiCR"
      },
      "outputs": [],
      "source": [
        "ar = pd.read_csv('/content/drive/MyDrive/competition/H&M 개인 맞춤 패션 추천/articles.csv/articles.csv')\n",
        "cu = pd.read_csv('/content/drive/MyDrive/competition/H&M 개인 맞춤 패션 추천/customers.csv/customers.csv')\n",
        "sub = pd.read_csv('/content/drive/MyDrive/competition/H&M 개인 맞춤 패션 추천/sample_submission.csv/sample_submission.csv')\n",
        "tr = pd.read_csv('/content/drive/MyDrive/competition/H&M 개인 맞춤 패션 추천/transactions_train.csv/transactions_train.csv')"
      ]
    },
    {
      "cell_type": "code",
      "execution_count": null,
      "metadata": {
        "id": "ppdOtg10HDwX"
      },
      "outputs": [],
      "source": [
        "#날짜 처리\n",
        "tr['t_dat'] = pd.to_datetime(tr['t_dat'])\n",
        "\n",
        "#마지막 날짜\n",
        "print(tr['t_dat'].max())\n",
        "\n",
        "# 최근 한달 데이터로만 진행\n",
        "tr = tr[(tr['t_dat'] >= '2020-08-22')]\n",
        "tr.shape"
      ]
    },
    {
      "cell_type": "code",
      "execution_count": null,
      "metadata": {
        "id": "DsaUhbjrqzhC"
      },
      "outputs": [],
      "source": [
        "# 고객과 상품의 고유 ID 리스트 추출\n",
        "ALL_USERS = cu['customer_id'].unique().tolist()\n",
        "ALL_ITEMS = ar['article_id'].unique().tolist()\n",
        "\n",
        "# 고객과 상품의 정수 인덱스 생성 (순서대로 0부터)\n",
        "user_ids = dict(enumerate(ALL_USERS))\n",
        "item_ids = dict(enumerate(ALL_ITEMS))\n",
        "\n",
        "# 역매핑: 실제ID -> 인덱스(map용)\n",
        "user_map = {u: uidx for uidx, u in user_ids.items()}\n",
        "item_map = {i: iidx for iidx, i in item_ids.items()}\n",
        "\n",
        "# 트랜잭션에 고객, 상품의 정수 인덱스를 컬럼으로 추가\n",
        "tr['user_id'] = tr['customer_id'].map(user_map)\n",
        "tr['item_id'] = tr['article_id'].map(item_map)"
      ]
    },
    {
      "cell_type": "code",
      "execution_count": null,
      "metadata": {
        "id": "epbKGHwJyDDs"
      },
      "outputs": [],
      "source": [
        "#coo행렬 생성 함수\n",
        "def to_user_item_coo(df):\n",
        "    row = df['user_id'].values\n",
        "    col = df['item_id'].values\n",
        "    data = np.ones(df.shape[0])\n",
        "    coo = coo_matrix((data, (row, col)), shape=(len(ALL_USERS), len(ALL_ITEMS)))\n",
        "    return coo"
      ]
    },
    {
      "cell_type": "code",
      "execution_count": null,
      "metadata": {
        "id": "MPVq1cG8wOFS"
      },
      "outputs": [],
      "source": [
        "# 최근 일주일 데이터를 검증 데이터로 생성\n",
        "validation_cut = tr['t_dat'].max() - pd.Timedelta(7)\n",
        "tr_train = tr[tr['t_dat'] < validation_cut]\n",
        "tr_val = tr[tr['t_dat'] >= validation_cut]"
      ]
    },
    {
      "cell_type": "code",
      "execution_count": null,
      "metadata": {
        "id": "bP93PDh3xRcB"
      },
      "outputs": [],
      "source": [
        "#tran,validation 데이터로 coo,csr 행렬 생성\n",
        "coo_train = to_user_item_coo(tr_train)\n",
        "coo_val = to_user_item_coo(tr_val)\n",
        "\n",
        "csr_train = coo_train.tocsr()\n",
        "csr_val = coo_val.tocsr()"
      ]
    },
    {
      "cell_type": "markdown",
      "metadata": {
        "id": "iWSeMZ2hcOPH"
      },
      "source": [
        "하이퍼파라미터 튜닝"
      ]
    },
    {
      "cell_type": "code",
      "execution_count": null,
      "metadata": {
        "id": "UZgaFC6wVlL8"
      },
      "outputs": [],
      "source": [
        "best_map12 = 0\n",
        "for factors in [60, 100, 200, 500]:\n",
        "    for iterations in [3, 15, 20]:\n",
        "        for regularization in [0.01]:\n",
        "            model = implicit.als.AlternatingLeastSquares(factors=factors,\n",
        "                                                         iterations=iterations,\n",
        "                                                         regularization=regularization,\n",
        "                                                         random_state=77)\n",
        "            model.fit(coo_train, show_progress=False)\n",
        "            map12 = mean_average_precision_at_k(model, csr_train, csr_val, K=12, show_progress=False, num_threads=4)\n",
        "            if map12 > best_map12:\n",
        "                best_map12 = map12\n",
        "                best_params = {'factors': factors, 'iterations': iterations, 'regularization': regularization}\n",
        "                print(f\"Best MAP@12 found. Updating: {best_params}\")"
      ]
    },
    {
      "cell_type": "code",
      "execution_count": null,
      "metadata": {
        "id": "n5wVTHmCVmfo"
      },
      "outputs": [],
      "source": [
        "best_params"
      ]
    },
    {
      "cell_type": "markdown",
      "metadata": {
        "id": "F8AyGElmkOwg"
      },
      "source": [
        "전체 데이터(최근 1달치 데이터)로 모델링"
      ]
    },
    {
      "cell_type": "code",
      "execution_count": null,
      "metadata": {
        "id": "JmjIrr_c1t7P"
      },
      "outputs": [],
      "source": [
        "#최근 한달치 전체 데이터로 coo,csr 행렬 생성\n",
        "coo_train = to_user_item_coo(tr)\n",
        "csr_train = coo_train.tocsr()"
      ]
    },
    {
      "cell_type": "code",
      "execution_count": null,
      "metadata": {
        "id": "WNvIpNkt6IsM"
      },
      "outputs": [],
      "source": [
        "#best_params로 모델 학습\n",
        "model = implicit.als.AlternatingLeastSquares(factors=500,\n",
        "                                                 iterations=3 ,\n",
        "                                                 regularization=0.01,\n",
        "                                                 random_state=77)\n",
        "model.fit(coo_train, show_progress=True)"
      ]
    },
    {
      "cell_type": "markdown",
      "metadata": {
        "id": "Acw5da4ILPcw"
      },
      "source": [
        "submission"
      ]
    },
    {
      "cell_type": "code",
      "source": [
        "# 2020-09-16 이후 데이터 필터링\n",
        "popular_1week = tr[tr['t_dat'] >= pd.to_datetime('2020-09-16')]\n",
        "\n",
        "# 인기 있는 상위 12개 article_id 추출\n",
        "top12 = popular_1week['article_id'].value_counts().index.astype(str)[:12]\n",
        "\n",
        "print(\"Last week's top 12 popular items:\")\n",
        "print(top12)"
      ],
      "metadata": {
        "id": "ehRrGNKOPshF"
      },
      "execution_count": null,
      "outputs": []
    },
    {
      "cell_type": "code",
      "source": [
        "def submit(model, csr_train):\n",
        "    preds = []\n",
        "    batch_size = 2000\n",
        "    to_generate = np.arange(len(ALL_USERS))\n",
        "    for startidx in range(0, len(to_generate), batch_size):\n",
        "        batch = to_generate[startidx : startidx + batch_size]\n",
        "        ids, scores = model.recommend(batch, csr_train[batch], N=12, filter_already_liked_items=False)\n",
        "        for i, userid in enumerate(batch):\n",
        "            customer_id = user_ids[userid]\n",
        "            # 구매이력이 없는 유저는 최근 일주일 인기상품으로 추천\n",
        "            if np.all(model.user_factors[userid] == 0):\n",
        "                article_ids = top12\n",
        "            else:\n",
        "                user_items = ids[i]\n",
        "                article_ids = [str(item_ids[item_id]) for item_id in user_items]\n",
        "            preds.append((customer_id, ' '.join(article_ids)))\n",
        "    df_preds = pd.DataFrame(preds, columns=['customer_id', 'prediction'])\n",
        "    return df_preds"
      ],
      "metadata": {
        "id": "zqvbBXJBF69b"
      },
      "execution_count": null,
      "outputs": []
    },
    {
      "cell_type": "code",
      "source": [
        "df_preds = submit(model, csr_train)"
      ],
      "metadata": {
        "id": "zZUI7LtD3QVM"
      },
      "execution_count": null,
      "outputs": []
    },
    {
      "cell_type": "code",
      "source": [
        "def add_zero_to_article_ids(pred):\n",
        "    if pd.isna(pred):  # NaN 예외 처리\n",
        "        return pred\n",
        "    return ' '.join(['0' + aid if not aid.startswith('0') else aid for aid in pred.split()])\n",
        "\n",
        "df_preds['prediction'] = df_preds['prediction'].apply(add_zero_to_article_ids)"
      ],
      "metadata": {
        "id": "eGcIDQRfCAzg"
      },
      "execution_count": null,
      "outputs": []
    },
    {
      "cell_type": "code",
      "source": [
        "df_preds.head()"
      ],
      "metadata": {
        "id": "ZeHjC0PpzUru"
      },
      "execution_count": null,
      "outputs": []
    },
    {
      "cell_type": "code",
      "source": [
        "df_preds.to_csv(\"submission.csv\",index=False)"
      ],
      "metadata": {
        "id": "5uPATyzneBEp"
      },
      "execution_count": null,
      "outputs": []
    },
    {
      "cell_type": "markdown",
      "source": [
        "![image.png](data:image/png;base64,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)"
      ],
      "metadata": {
        "id": "tjfHQ1h_R-EI"
      }
    },
    {
      "cell_type": "markdown",
      "metadata": {
        "id": "eyjbLvVE_nk2"
      },
      "source": [
        "# 성능개선"
      ]
    },
    {
      "cell_type": "code",
      "execution_count": null,
      "metadata": {
        "id": "oIBfXpzCQ3Yn"
      },
      "outputs": [],
      "source": [
        "from google.colab import drive\n",
        "drive.mount('/content/drive')"
      ]
    },
    {
      "cell_type": "code",
      "execution_count": null,
      "metadata": {
        "id": "l35OkfcJQhxr"
      },
      "outputs": [],
      "source": [
        "import pandas as pd\n",
        "import numpy as np\n",
        "\n",
        "ar = pd.read_csv('/content/drive/MyDrive/competition/H&M 개인 맞춤 패션 추천/articles.csv/articles.csv')\n",
        "cu = pd.read_csv('/content/drive/MyDrive/competition/H&M 개인 맞춤 패션 추천/customers.csv/customers.csv')\n",
        "sub = pd.read_csv('/content/drive/MyDrive/competition/H&M 개인 맞춤 패션 추천/sample_submission.csv/sample_submission.csv')\n",
        "tr = pd.read_csv('/content/drive/MyDrive/competition/H&M 개인 맞춤 패션 추천/transactions_train.csv/transactions_train.csv')"
      ]
    },
    {
      "cell_type": "code",
      "execution_count": null,
      "metadata": {
        "id": "N85hcLrIbkCO"
      },
      "outputs": [],
      "source": [
        "#원래 데이터 보존을 위해\n",
        "tr1=tr.copy()"
      ]
    },
    {
      "cell_type": "markdown",
      "metadata": {
        "id": "_jjWOHcH580V"
      },
      "source": [
        "memory 효율화를 위해 고객 ID와 상품 ID의 자료형을 처리"
      ]
    },
    {
      "cell_type": "code",
      "execution_count": null,
      "metadata": {
        "id": "4dtcoeD35D5L"
      },
      "outputs": [],
      "source": [
        "# 컬럼 이름 공백 제거\n",
        "tr1.columns = tr1.columns.str.strip()\n",
        "\n",
        "#customer_id,article_id 처리\n",
        "tr1['customer_id'] = tr1['customer_id'].astype(str).str[-16:].apply(lambda x: int(x, 16)).astype('int64')\n",
        "tr1['article_id'] = tr1['article_id'].astype('int32')\n",
        "\n",
        "#날짜 처리\n",
        "tr1['t_dat'] = pd.to_datetime(tr1['t_dat'])\n",
        "\n",
        "# 필요한 컬럼만 선택\n",
        "tr1 = tr1[['t_dat', 'customer_id', 'article_id']]"
      ]
    },
    {
      "cell_type": "markdown",
      "metadata": {
        "id": "Vzy-96tH57T9"
      },
      "source": [
        "고객별로 가장 최근의 구매일을 계산하고, 그로부터 6일 이내의 거래만을 필터링"
      ]
    },
    {
      "cell_type": "code",
      "execution_count": null,
      "metadata": {
        "id": "RJN6rUpieWSu"
      },
      "outputs": [],
      "source": [
        "# 고객별로 가장 최근 구매 날짜 구하기\n",
        "last_purchase = tr1.groupby('customer_id')['t_dat'].max().reset_index()\n",
        "last_purchase.columns = ['customer_id', 'last_date']\n",
        "\n",
        "# 원본 거래 데이터에 고객별 마지막 구매일 붙이기\n",
        "tr1 = tr1.merge(last_purchase, on='customer_id', how='left')\n",
        "\n",
        "# 각 거래가 마지막 구매일로부터 며칠 전인지 계산\n",
        "tr1['days_ago'] = (tr1['last_date'] - tr1['t_dat']).dt.days\n",
        "\n",
        "# 마지막 구매일로부터 6일 이내 거래만 남기기 (최근 7일)\n",
        "tr1 = tr1[tr1['days_ago'] <= 6]\n",
        "\n",
        "# 거래 수 확인\n",
        "print(\"원래 거래 수:\", len(tr))\n",
        "print(\"최근 7일 이내 거래 수:\", len(tr1))"
      ]
    },
    {
      "cell_type": "markdown",
      "metadata": {
        "id": "cmFSX0-ZdE9c"
      },
      "source": [
        "##1. 고객이 자주 구매한 상품 추천\n",
        "\n",
        "고객이 같은 상품을 몇 번 구매했는지 카운트 • 자주 사고, 최근에 산 상품 순으로 정렬 후 중복 제거"
      ]
    },
    {
      "cell_type": "code",
      "execution_count": null,
      "metadata": {
        "id": "_T25D6B7fX7l"
      },
      "outputs": [],
      "source": [
        "# 고객이 같은 상품을 몇 번 샀는지 계산\n",
        "purchase_count = tr1.groupby(['customer_id', 'article_id'])['t_dat'].count().reset_index()\n",
        "purchase_count.columns = ['customer_id', 'article_id', 'num_purchases']  # 구매 횟수\n",
        "\n",
        "# 원본 거래 데이터에 구매 횟수 정보 붙이기\n",
        "tr1 = tr1.merge(purchase_count, on=['customer_id', 'article_id'], how='left')\n",
        "\n",
        "# 많이 사고, 최근에 산 거래가 먼저 오도록 정렬\n",
        "tr1 = tr1.sort_values(by=['num_purchases', 't_dat'], ascending=False)\n",
        "\n",
        "# 고객이 같은 상품을 여러 번 샀다면 → 1건만 남기기 (가장 자주 & 최근 것)\n",
        "tr1 = tr1.drop_duplicates(subset=['customer_id', 'article_id'])\n",
        "\n",
        "tr1.head()"
      ]
    },
    {
      "cell_type": "markdown",
      "metadata": {
        "id": "9NrxaG1piZKx"
      },
      "source": [
        "##2. 함께 자주 구매되는 상품 쌍(pairs) - 연관 기반 추천 시스템\n",
        "\n",
        "상위 판매 아이템 중 1000~1032번쨰 아이템 기준으로,\n",
        " 이 아이템을 산 고객들이 함께 산 다른 아이템 3개를 추출하여 연관 추천 쌍 생성"
      ]
    },
    {
      "cell_type": "code",
      "execution_count": null,
      "metadata": {
        "id": "an2n3gsdipUC"
      },
      "outputs": [],
      "source": [
        "# 필요한 컬럼만 선택\n",
        "tr1 = tr1[['customer_id', 'article_id']]\n",
        "\n",
        "# 상위 아이템 중 1000번째부터 1032번째까지 선택\n",
        "# 너무 인기있는 상품은 다들 사서 연관성이 약하고 인기없는 상품은 샘플수 부족\n",
        "vc = tr1['article_id'].value_counts()\n",
        "\n",
        "pairs = {}\n",
        "for j, i in enumerate(vc.index[1000:1032]):\n",
        "    # i: 현재 기준 article_id\n",
        "    # 이 상품을 구매한 고객들 찾기\n",
        "    USERS = tr1[tr1['article_id'] == i]['customer_id'].unique()\n",
        "\n",
        "    # 이 고객들이 구매한 다른 상품의 빈도 수 계산\n",
        "    vc2 = tr1[(tr1['customer_id'].isin(USERS)) & (tr1['article_id'] != i)]['article_id'].value_counts()\n",
        "\n",
        "    # 상위 3개 아이템 저장 (3개 미만일 경우 예외 처리 포함)\n",
        "    pairs[i] = vc2.index[:3].tolist()\n",
        "\n",
        "# 결과 확인 (예: 3개만 출력)\n",
        "for k, v in list(pairs.items())[:3]:\n",
        "    print(f\"Item {k} frequently bought with: {v}\")"
      ]
    },
    {
      "cell_type": "markdown",
      "metadata": {
        "id": "zq0_jyHLmbmC"
      },
      "source": [
        "상위 1000개를 제외한 상품들 중,\n",
        "고객들이 함께 자주 구매한 연관 상품 3개씩을 뽑아\n",
        "딕셔너리 pairs에 저장"
      ]
    },
    {
      "cell_type": "code",
      "execution_count": null,
      "metadata": {
        "id": "RSZS_tV9oP_r"
      },
      "outputs": [],
      "source": [
        "# 연관 상품 추천 딕셔너리 저장 및 불러오기\n",
        "np.save('pairs_dict.npy', pairs)\n",
        "pairs = np.load('pairs_dict.npy', allow_pickle=True).item()\n",
        "\n",
        "# article_id를 기준으로 딕셔너리 매핑하여 새 column 생성\n",
        "tr1['article_id2'] = tr1['article_id'].map(pairs)\n",
        "\n",
        "# 연관상품 리스트가 있는 경우만 필터링\n",
        "tr2 = tr1[['customer_id', 'article_id2']].copy()\n",
        "tr2 = tr2[tr2['article_id2'].notnull()]\n",
        "\n",
        "# 리스트를 행으로 펼침\n",
        "tr2 = tr2.explode('article_id2')\n",
        "\n",
        "# 중복 제거\n",
        "tr2 = tr2.drop_duplicates(['customer_id', 'article_id2'])\n",
        "\n",
        "# 컬럼 이름 통일\n",
        "tr2 = tr2.rename(columns={'article_id2': 'article_id'})\n",
        "\n",
        "# 원래 구매 기록과 추천 결과 결합\n",
        "tr1 = tr1[['customer_id', 'article_id']]\n",
        "tr1 = pd.concat([tr1, tr2], axis=0, ignore_index=True)\n",
        "tr1['article_id'] = tr1['article_id'].astype('int32')\n",
        "\n",
        "# 중복 제거\n",
        "tr1 = tr1.drop_duplicates(['customer_id', 'article_id'])"
      ]
    },
    {
      "cell_type": "code",
      "execution_count": null,
      "metadata": {
        "id": "XbNOqjACjril"
      },
      "outputs": [],
      "source": [
        "# 추천 문자열 생성\n",
        "tr1['article_id'] = ' 0' + tr1['article_id'].astype(str)\n",
        "\n",
        "# 고객별로 article_id 문자열을 합침\n",
        "preds = tr1.groupby('customer_id')['article_id'].sum().reset_index()\n",
        "preds.columns = ['customer_id', 'prediction']\n",
        "preds.head()"
      ]
    },
    {
      "cell_type": "markdown",
      "metadata": {
        "id": "9uYpOT3VjTz6"
      },
      "source": [
        "##3. 최근 1주일 인기 상품 12개 추천\n",
        "\n",
        "고객의 이전 구매 상품 추천 & 2. 그 상품과 함께 자주 구매된 상품 추천으로도 충분하지 않은(cold-start)고객에게는 최근 1주간 가장 많이 팔린 상품 12개로 추천 보충"
      ]
    },
    {
      "cell_type": "code",
      "execution_count": null,
      "metadata": {
        "id": "q4B-xlIPjduN"
      },
      "outputs": [],
      "source": [
        "#날짜처리\n",
        "tr['t_dat'] = pd.to_datetime(tr['t_dat'])\n",
        "\n",
        "# 2020-09-16 이후 데이터 필터링\n",
        "popular_1week = tr[tr['t_dat'] >= pd.to_datetime('2020-09-16')]\n",
        "\n",
        "# 인기 있는 상위 12개 article_id 추출\n",
        "top12_list = popular_1week['article_id'].value_counts().index.astype(str)[:12]\n",
        "\n",
        "# ' 0' + ' 0'.join(...) 형식으로 연결\n",
        "top12 = ' 0' + ' 0'.join(top12_list)\n",
        "print(\"Last week's top 12 popular items:\")\n",
        "print(top12)"
      ]
    },
    {
      "cell_type": "markdown",
      "metadata": {
        "id": "xHrSLIFRj6i_"
      },
      "source": [
        "submission"
      ]
    },
    {
      "cell_type": "code",
      "execution_count": null,
      "metadata": {
        "id": "ZLsxKO_Xj5vH"
      },
      "outputs": [],
      "source": [
        "sub = sub[['customer_id']]\n",
        "\n",
        "sub['customer_id_2'] = sub['customer_id'].str[-16:].apply(lambda x: int(x, 16)).astype('int64')\n",
        "\n",
        "sub = sub.merge(\n",
        "    preds.rename(columns={'customer_id': 'customer_id_2'}),\n",
        "    on='customer_id_2',\n",
        "    how='left'\n",
        ").fillna('')\n",
        "\n",
        "sub.drop(columns=['customer_id_2'], inplace=True)\n",
        "\n",
        "sub['prediction'] = sub['prediction'] + ' ' + top12\n",
        "\n",
        "sub['prediction'] = sub['prediction'].str.strip()\n",
        "\n",
        "sub['prediction'] = sub['prediction'].str[:131]\n",
        "\n",
        "sub.to_csv('submission.csv', index=False)\n",
        "\n",
        "sub.head()"
      ]
    },
    {
      "cell_type": "markdown",
      "metadata": {
        "id": "-e9nU0iXqUDB"
      },
      "source": [
        "![image.png](data:image/png;base64,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)"
      ]
    },
    {
      "cell_type": "code",
      "source": [
        "!jupyter nbconvert --ClearMetadataPreprocessor.enabled=True --to html your_notebook.ipynb"
      ],
      "metadata": {
        "id": "r-E9JIjIGdNS"
      },
      "execution_count": null,
      "outputs": []
    }
  ],
  "metadata": {
    "accelerator": "GPU",
    "colab": {
      "gpuType": "T4",
      "provenance": [],
      "toc_visible": true
    },
    "kernelspec": {
      "display_name": "Python 3",
      "name": "python3"
    },
    "language_info": {
      "name": "python"
    }
  },
  "nbformat": 4,
  "nbformat_minor": 0
}